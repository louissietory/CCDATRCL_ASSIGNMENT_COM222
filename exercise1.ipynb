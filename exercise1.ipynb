{
  "cells": [
    {
      "cell_type": "markdown",
      "metadata": {
        "id": "view-in-github",
        "colab_type": "text"
      },
      "source": [
        "<a href=\"https://colab.research.google.com/github/louissietory/CCDATRCL_ASSIGNMENT_COM222/blob/main/exercise1.ipynb\" target=\"_parent\"><img src=\"https://colab.research.google.com/assets/colab-badge.svg\" alt=\"Open In Colab\"/></a>"
      ]
    },
    {
      "cell_type": "markdown",
      "metadata": {
        "id": "h2vFiYhGzZOg"
      },
      "source": [
        "# Exercise 1"
      ]
    },
    {
      "cell_type": "markdown",
      "source": [
        "## Class Initialization"
      ],
      "metadata": {
        "id": "sRm6kPQozcaU"
      }
    },
    {
      "cell_type": "code",
      "execution_count": null,
      "metadata": {
        "id": "b1u4Dt9mzZOi"
      },
      "outputs": [],
      "source": [
        "class Node:\n",
        "    def __init__(self, data):\n",
        "        self.data = data\n",
        "        self.next = None\n",
        "        self.prev = None"
      ]
    },
    {
      "cell_type": "code",
      "execution_count": null,
      "metadata": {
        "id": "tigvHSaHzZOj"
      },
      "outputs": [],
      "source": [
        "class LinkedList:\n",
        "\n",
        "    def __init__(self):\n",
        "        self.head = None\n",
        "\n",
        "    def traverse(self, node):\n",
        "        while node:\n",
        "            print(node.data, end=\" -> \")\n",
        "            node = node.next"
      ]
    },
    {
      "cell_type": "code",
      "execution_count": null,
      "metadata": {
        "id": "LIkQBioVzZOk"
      },
      "outputs": [],
      "source": [
        "class DoublyLinkedList:\n",
        "\n",
        "    def __init__(self):\n",
        "        self.head = None\n",
        "\n",
        "    def traverse(self, node):\n",
        "        while node:\n",
        "            print(node.data, end=\" -> \")\n",
        "            node = node.next"
      ]
    },
    {
      "cell_type": "code",
      "execution_count": null,
      "metadata": {
        "id": "zlxNT5EozZOl"
      },
      "outputs": [],
      "source": [
        "class CircularLinkedList:\n",
        "\n",
        "    def __init__(self):\n",
        "        self.head = None\n",
        "\n",
        "    def traverse(self, node):\n",
        "\n",
        "        head = node\n",
        "\n",
        "        while node:\n",
        "            print(node.data, end=\" -> \")\n",
        "            node = node.next\n",
        "\n",
        "            # Break to prevent infinite loop\n",
        "            if node == head:\n",
        "                break"
      ]
    },
    {
      "cell_type": "markdown",
      "metadata": {
        "id": "O68-Q1-bzZOl"
      },
      "source": [
        "#### 1. Create a Singly Linked list\n",
        "\n",
        "- Each node should contain your name and your seatmates in your row\n",
        "- Create at least 5 nodes\n",
        "- Traverse all nodes"
      ]
    },
    {
      "cell_type": "code",
      "source": [
        "linked_list = LinkedList()"
      ],
      "metadata": {
        "id": "M3DPHgmglm1T"
      },
      "execution_count": null,
      "outputs": []
    },
    {
      "cell_type": "code",
      "execution_count": null,
      "metadata": {
        "id": "pTcx_OuPzZOl"
      },
      "outputs": [],
      "source": [
        "linked_list.head = Node(\"Louisse\")\n",
        "node_2 = Node(\"Bea\")\n",
        "node_3 = Node(\"Chleo\")\n",
        "node_4 = Node(\"Allana\")\n",
        "node_5 = Node(\"Marga\")\n"
      ]
    },
    {
      "cell_type": "code",
      "source": [
        "linked_list.head.next = node_2\n",
        "node_2.next = node_3\n",
        "node_3.next = node_4\n",
        "node_4.next = node_5"
      ],
      "metadata": {
        "id": "eFvJNMzalu_j"
      },
      "execution_count": null,
      "outputs": []
    },
    {
      "cell_type": "code",
      "source": [
        "linked_list.travers(linked_list.head)"
      ],
      "metadata": {
        "id": "pGQH6g_0lzDy"
      },
      "execution_count": null,
      "outputs": []
    },
    {
      "cell_type": "markdown",
      "metadata": {
        "id": "IFgwbdw_zZOm"
      },
      "source": [
        "#### 2. Create a Doubly Linked list\n",
        "\n",
        "- Each node should contain your name and your seatmates in your row\n",
        "- Create at least 5 nodes\n",
        "- Traverse all nodes"
      ]
    },
    {
      "cell_type": "code",
      "execution_count": null,
      "metadata": {
        "id": "8kQD2A_QzZOm"
      },
      "outputs": [],
      "source": [
        "doubly_linked_list = DoublyLinkedList()\n"
      ]
    },
    {
      "cell_type": "code",
      "source": [
        "doubly_linked_list.head = Node(\"Louisse\")\n",
        "node_d2 = Node(\"Bea\")\n",
        "node_d3 = Node(\"Chleo\")\n",
        "node_d4 = Node(\"Allana\")\n",
        "node_d5 = Node(\"Marga\")\n"
      ],
      "metadata": {
        "id": "02hCEvRxl1yH"
      },
      "execution_count": null,
      "outputs": []
    },
    {
      "cell_type": "code",
      "source": [
        "doubly_linked_list.head.prev = None\n",
        "doub;y_linked_list.head.next = node_d2\n",
        "\n",
        "node_d2.prev = doubly_linked_list.head\n",
        "node_d2.next = node_d3\n",
        "\n",
        "node_d3.prev = node_d2\n",
        "node_d3.next = node_d4\n",
        "\n",
        "node_d4.prev = node_d3\n",
        "node_d4.next = node_d5\n",
        "\n",
        "node_d5.prev = node_d4\n",
        "node_5.next = None\n"
      ],
      "metadata": {
        "id": "z9-ZqO89mCM2"
      },
      "execution_count": null,
      "outputs": []
    },
    {
      "cell_type": "code",
      "source": [
        "print(\"Value of head:\", doubly_linked_list.head.data)\n",
        "print(\"Value next to head:\", doubly_linked_list.head.nezt.data)\n",
        "\n",
        "print(\"-----\")\n",
        "\n",
        "print(\"Value of node_d2:\", node_d2.data)\n",
        "print(\"Value of previous to node_d2:\", node_d2.prev.data)\n",
        "print(\"Value of next to node_d2:\", node_d2.next.data)\n",
        "\n",
        "print(\"-----\")\n",
        "\n",
        "print(\"Value of node_d3:\", node_d3.data)\n",
        "print(\"Value of previous to node_d3:\", node_d3.prev.data)\n",
        "print(\"Value of next to node_d3:\", node_d3.next.data)\n",
        "\n",
        "print(\"-----\")\n",
        "\n",
        "print(\"Value of node_d4:\", node_d4.data)\n",
        "print(\"Value of previous to node_d4:\", node_d4.prev.data)\n",
        "print(\"Value of next to node_d4:\", node_d4.next.data)\n",
        "\n",
        "print(\"-----\")\n",
        "\n",
        "print(\"Value of node_d5:\", node_d5.data)\n",
        "print(\"Value of previous to node_d5:\", node_d5.prev.data)\n",
        "print(\"Value of next to node_d5:\", node_d5.next)\n"
      ],
      "metadata": {
        "id": "IPZIZbZ7nLzr"
      },
      "execution_count": null,
      "outputs": []
    },
    {
      "cell_type": "code",
      "source": [
        "doubly_linked_list.traverse(doubly_linked_list.head)"
      ],
      "metadata": {
        "id": "Nyly0aH_offT"
      },
      "execution_count": null,
      "outputs": []
    },
    {
      "cell_type": "markdown",
      "metadata": {
        "id": "rtApbsCjzZOm"
      },
      "source": [
        "#### 3. Create a Circular Linked list\n",
        "\n",
        "- Each node should contain your name and your seatmates in your row\n",
        "- Create at least 5 nodes\n",
        "- Traverse all nodes"
      ]
    },
    {
      "cell_type": "code",
      "execution_count": null,
      "metadata": {
        "id": "Gp1Oiq0jzZOn"
      },
      "outputs": [],
      "source": [
        "cicular_linked_list = CircularLinkedList()"
      ]
    },
    {
      "cell_type": "code",
      "source": [
        "circular_linked_list.head = Node(\"Louisse\")\n",
        "node_c2 = Node(\"Bea\")\n",
        "node_c3 = Node(\"Chleo\")\n",
        "node_c4 = Node(\"Allana\")\n",
        "node_c5 = Node(\"Marga\")\n"
      ],
      "metadata": {
        "id": "qV9GfWsXoswS"
      },
      "execution_count": null,
      "outputs": []
    },
    {
      "cell_type": "code",
      "source": [
        "circular_linked_list.head.next = node_c2\n",
        "node_c2.next = node_c3\n",
        "node_c3.next = node_c4\n",
        "node_c4.next = node_c5\n",
        "node_c5.next = None"
      ],
      "metadata": {
        "id": "j6z8SrCZo7M6"
      },
      "execution_count": null,
      "outputs": []
    },
    {
      "cell_type": "code",
      "source": [
        "print(\"Value of head:\", circular_linked_list.head.data)\n",
        "print(\"Value next to head:\", circular_linked_list.head.nezt.data)\n",
        "\n",
        "print(\"-----\")\n",
        "\n",
        "print(\"Value of node_c2:\", node_c2.data)\n",
        "print(\"Value of next to node_c2:\", node_c2.next.data)\n",
        "\n",
        "print(\"-----\")\n",
        "\n",
        "print(\"Value of node_c3:\", node_c3.data)\n",
        "print(\"Value of next to node_c3:\", node_c3.next.data)\n",
        "\n",
        "print(\"-----\")\n",
        "\n",
        "print(\"Value of node_c4:\", node_c4.data)\n",
        "print(\"Value of next to node_c4:\", node_c4.next.data)\n",
        "\n",
        "print(\"-----\")\n",
        "\n",
        "print(\"Value of node_c5:\", node_c5.data)\n",
        "print(\"Value of next to node_c5:\", node_c5.next)\n",
        "\n"
      ],
      "metadata": {
        "id": "CqGBYHvcpImo"
      },
      "execution_count": null,
      "outputs": []
    },
    {
      "cell_type": "code",
      "source": [
        "circular_linked_list.traverse(circular_linked_list.head)"
      ],
      "metadata": {
        "id": "j_usX-ZPpx17"
      },
      "execution_count": null,
      "outputs": []
    }
  ],
  "metadata": {
    "kernelspec": {
      "display_name": "Python 3",
      "language": "python",
      "name": "python3"
    },
    "language_info": {
      "name": "python",
      "version": "3.11.4"
    },
    "orig_nbformat": 4,
    "colab": {
      "provenance": [],
      "include_colab_link": true
    }
  },
  "nbformat": 4,
  "nbformat_minor": 0
}