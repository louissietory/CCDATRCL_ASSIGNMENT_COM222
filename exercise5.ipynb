{
  "cells": [
    {
      "cell_type": "markdown",
      "metadata": {
        "id": "view-in-github",
        "colab_type": "text"
      },
      "source": [
        "<a href=\"https://colab.research.google.com/github/louissietory/CCDATRCL_ASSIGNMENT_COM222/blob/main/exercise5.ipynb\" target=\"_parent\"><img src=\"https://colab.research.google.com/assets/colab-badge.svg\" alt=\"Open In Colab\"/></a>"
      ]
    },
    {
      "cell_type": "markdown",
      "metadata": {
        "id": "DN15rkKvhGBr"
      },
      "source": [
        "# Exercise 5"
      ]
    },
    {
      "cell_type": "markdown",
      "metadata": {
        "id": "oEys_5t7hGBt"
      },
      "source": [
        "#### 1. Create a dictionary of your 10 favorite songs."
      ]
    },
    {
      "cell_type": "markdown",
      "metadata": {
        "id": "T1iOtzXshGBu"
      },
      "source": [
        "Example:\n",
        "\n",
        "|KEY|VALUE|\n",
        "|---|---|\n",
        "|001|My Love|\n",
        "|002|Like a rose|"
      ]
    },
    {
      "cell_type": "code",
      "execution_count": 38,
      "metadata": {
        "id": "dprOhMRchGBu",
        "colab": {
          "base_uri": "https://localhost:8080/"
        },
        "outputId": "bde38f0a-eb19-48f8-dace-c6a1e41e4468"
      },
      "outputs": [
        {
          "output_type": "stream",
          "name": "stdout",
          "text": [
            "{'001': 'Leave Before You Love Me', '002': '3D', '003': 'Apocalypse', '004': 'SPECIALZ', '005': 'Tip Toe', '006': 'Heaven and Back', '007': 'Kapag Lasing Malambing', '008': 'Love Me Harder', '009': 'Blinding Lights', '010': 'Free Love'}\n"
          ]
        }
      ],
      "source": [
        "favoritesongs = {\n",
        "    \"001\": \"Leave Before You Love Me\",\n",
        "    \"002\": \"3D\",\n",
        "    \"003\": \"Apocalypse\",\n",
        "    \"004\": \"SPECIALZ\",\n",
        "    \"005\": \"Tip Toe\",\n",
        "    \"006\": \"Heaven and Back\",\n",
        "    \"007\": \"Kapag Lasing Malambing\",\n",
        "    \"008\": \"Love Me Harder\",\n",
        "    \"009\": \"Blinding Lights\",\n",
        "    \"010\": \"Free Love\",\n",
        "\n",
        "}\n",
        "print(favoritesongs)"
      ]
    },
    {
      "cell_type": "markdown",
      "metadata": {
        "id": "g1FstA7XhGBv"
      },
      "source": [
        "#### 2. Loop through the dictionary by its **key** and **value**"
      ]
    },
    {
      "cell_type": "code",
      "execution_count": 39,
      "metadata": {
        "id": "QgyUTiuHhGBv",
        "colab": {
          "base_uri": "https://localhost:8080/"
        },
        "outputId": "636086fc-12bf-409b-8123-5537af31027e"
      },
      "outputs": [
        {
          "output_type": "stream",
          "name": "stdout",
          "text": [
            "001 Leave Before You Love Me\n",
            "002 3D\n",
            "003 Apocalypse\n",
            "004 SPECIALZ\n",
            "005 Tip Toe\n",
            "006 Heaven and Back\n",
            "007 Kapag Lasing Malambing\n",
            "008 Love Me Harder\n",
            "009 Blinding Lights\n",
            "010 Free Love\n"
          ]
        }
      ],
      "source": [
        "for x, y in favoritesongs.items():\n",
        "  print(x, y)\n"
      ]
    },
    {
      "cell_type": "markdown",
      "metadata": {
        "id": "h5N_w8-yhGBw"
      },
      "source": [
        "#### 3. Add one additional song"
      ]
    },
    {
      "cell_type": "code",
      "execution_count": 40,
      "metadata": {
        "id": "oUXMAJWEhGBw",
        "colab": {
          "base_uri": "https://localhost:8080/"
        },
        "outputId": "51df7db4-0d5e-4fa7-81a2-dff2659a7afd"
      },
      "outputs": [
        {
          "output_type": "execute_result",
          "data": {
            "text/plain": [
              "{'001': 'Leave Before You Love Me',\n",
              " '002': '3D',\n",
              " '003': 'Apocalypse',\n",
              " '004': 'SPECIALZ',\n",
              " '005': 'Tip Toe',\n",
              " '006': 'Heaven and Back',\n",
              " '007': 'Kapag Lasing Malambing',\n",
              " '008': 'Love Me Harder',\n",
              " '009': 'Blinding Lights',\n",
              " '010': 'Free Love',\n",
              " '011': 'Bare Wit Me'}"
            ]
          },
          "metadata": {},
          "execution_count": 40
        }
      ],
      "source": [
        "favoritesongs[\"011\"] = \"Bare Wit Me\"\n",
        "favoritesongs"
      ]
    },
    {
      "cell_type": "markdown",
      "metadata": {
        "id": "7OlW5r9dhGBx"
      },
      "source": [
        "#### 4. Remove one song"
      ]
    },
    {
      "cell_type": "code",
      "execution_count": 41,
      "metadata": {
        "id": "g39mqwpDhGBx",
        "colab": {
          "base_uri": "https://localhost:8080/"
        },
        "outputId": "9c5cb6ce-4654-40b6-f80f-d11ace8aa8d2"
      },
      "outputs": [
        {
          "output_type": "execute_result",
          "data": {
            "text/plain": [
              "{'001': 'Leave Before You Love Me',\n",
              " '002': '3D',\n",
              " '003': 'Apocalypse',\n",
              " '005': 'Tip Toe',\n",
              " '006': 'Heaven and Back',\n",
              " '007': 'Kapag Lasing Malambing',\n",
              " '008': 'Love Me Harder',\n",
              " '009': 'Blinding Lights',\n",
              " '010': 'Free Love',\n",
              " '011': 'Bare Wit Me'}"
            ]
          },
          "metadata": {},
          "execution_count": 41
        }
      ],
      "source": [
        "favoritesongs.pop(\"004\")\n",
        "favoritesongs"
      ]
    },
    {
      "cell_type": "markdown",
      "metadata": {
        "id": "gZ8Sr1bzhGBy"
      },
      "source": [
        "#### 5. Create a nested dictionary of your 10 favorite songs with 5 genres. Display all of the items of the nested dictionary\n",
        "\n",
        "- Each nested dictionary's key should be the genre of the song\n",
        "- Put each song in their respective genre"
      ]
    },
    {
      "cell_type": "markdown",
      "metadata": {
        "id": "US1ZaaSJhGBy"
      },
      "source": [
        "Example:\n",
        "\n",
        "\n",
        "|KEY|VALUE|\n",
        "|---|---|\n",
        "|Pop|{001, Baby}|\n",
        "|Rock|{001, Enter Sandman}|"
      ]
    },
    {
      "cell_type": "code",
      "execution_count": 42,
      "metadata": {
        "id": "z577KULkhGBz",
        "colab": {
          "base_uri": "https://localhost:8080/"
        },
        "outputId": "e12a9314-bdc6-4cf0-b2e2-870f701cc16b"
      },
      "outputs": [
        {
          "output_type": "execute_result",
          "data": {
            "text/plain": [
              "{'Pop': {'001': 'Leave Before You Love Me', '002': '3D'},\n",
              " 'Soul': {'003': 'Äpocalypse', '005': 'Tip Toe'},\n",
              " 'Alternative': {'006': 'Heaven and Back', '009': 'Blinding Lights'},\n",
              " 'PPOP': {'007': 'Kapag Lasing Malambing'},\n",
              " 'R&B': {'010': 'Free Love', '011': 'Bare Wit Me'}}"
            ]
          },
          "metadata": {},
          "execution_count": 42
        }
      ],
      "source": [
        "favoritesongs = {\n",
        "    \"Pop\" : {\n",
        "        \"001\" : \"Leave Before You Love Me\",\n",
        "        \"002\" : \"3D\",\n",
        "    },\n",
        "    \"Soul\" : {\n",
        "        \"003\" : \"Äpocalypse\",\n",
        "        \"005\" : \"Tip Toe\",\n",
        "    },\n",
        "    \"Alternative\" : {\n",
        "        \"006\" : \"Heaven and Back\",\n",
        "        \"009\" : \"Blinding Lights\",\n",
        "    },\n",
        "\n",
        "   \"PPOP\" : {\n",
        "        \"007\" : \"Kapag Lasing Malambing\",\n",
        "    },\n",
        "    \"R&B\" : {\n",
        "        \"010\" : \"Free Love\",\n",
        "        \"011\" : \"Bare Wit Me\",\n",
        "    }\n",
        "\n",
        "}\n",
        "favoritesongs\n"
      ]
    },
    {
      "cell_type": "markdown",
      "metadata": {
        "id": "ZMgltzOkhGBz"
      },
      "source": [
        "#### 6. Print the first song of the first genre"
      ]
    },
    {
      "cell_type": "code",
      "execution_count": 45,
      "metadata": {
        "id": "nmXUGoNWhGBz",
        "colab": {
          "base_uri": "https://localhost:8080/"
        },
        "outputId": "83e97c86-c5b3-4aaa-e56e-855dfe81ae34"
      },
      "outputs": [
        {
          "output_type": "stream",
          "name": "stdout",
          "text": [
            "Leave Before You Love Me\n"
          ]
        }
      ],
      "source": [
        "print(favoritesongs[\"Pop\"][\"001\"])"
      ]
    },
    {
      "cell_type": "markdown",
      "metadata": {
        "id": "dEcgwp_ihGB0"
      },
      "source": [
        "#### 7. Print the first song of the last genre"
      ]
    },
    {
      "cell_type": "code",
      "execution_count": 44,
      "metadata": {
        "id": "ITbuWq2UhGB0",
        "colab": {
          "base_uri": "https://localhost:8080/"
        },
        "outputId": "953efd6e-0948-4d17-e875-5bf4b7ef87e9"
      },
      "outputs": [
        {
          "output_type": "stream",
          "name": "stdout",
          "text": [
            "Free Love\n"
          ]
        }
      ],
      "source": [
        "print(favoritesongs[\"R&B\"][\"010\"])"
      ]
    }
  ],
  "metadata": {
    "kernelspec": {
      "display_name": "Python 3",
      "language": "python",
      "name": "python3"
    },
    "language_info": {
      "codemirror_mode": {
        "name": "ipython",
        "version": 3
      },
      "file_extension": ".py",
      "mimetype": "text/x-python",
      "name": "python",
      "nbconvert_exporter": "python",
      "pygments_lexer": "ipython3",
      "version": "3.11.4"
    },
    "orig_nbformat": 4,
    "colab": {
      "provenance": [],
      "include_colab_link": true
    }
  },
  "nbformat": 4,
  "nbformat_minor": 0
}