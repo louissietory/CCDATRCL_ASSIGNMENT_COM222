{
  "cells": [
    {
      "cell_type": "markdown",
      "metadata": {
        "id": "view-in-github",
        "colab_type": "text"
      },
      "source": [
        "<a href=\"https://colab.research.google.com/github/louissietory/CCDATRCL_ASSIGNMENT_COM222/blob/main/exercise3.ipynb\" target=\"_parent\"><img src=\"https://colab.research.google.com/assets/colab-badge.svg\" alt=\"Open In Colab\"/></a>"
      ]
    },
    {
      "cell_type": "markdown",
      "metadata": {
        "id": "qRWocaKCrA8t"
      },
      "source": [
        "# Exercise 3"
      ]
    },
    {
      "cell_type": "markdown",
      "metadata": {
        "id": "VrxZxz88rA9n"
      },
      "source": [
        "#### Pre-defined classes"
      ]
    },
    {
      "cell_type": "markdown",
      "metadata": {
        "id": "dc4G2ALsrA9v"
      },
      "source": [
        "Pre-defined Queue class"
      ]
    },
    {
      "cell_type": "code",
      "execution_count": 3,
      "metadata": {
        "id": "tNcjTzlqrA9x"
      },
      "outputs": [],
      "source": [
        "class Queue:\n",
        "    def __init__(self):\n",
        "        self.queue = []\n",
        "\n",
        "    # Add an element\n",
        "    def enqueue(self, item):\n",
        "        self.queue.append(item)\n",
        "\n",
        "    # Remove an element\n",
        "    def dequeue(self):\n",
        "        if len(self.queue) < 1:\n",
        "            return None\n",
        "        return self.queue.pop(0)\n",
        "\n",
        "    # Display  the queue\n",
        "    def display(self):\n",
        "        print(self.queue)\n",
        "\n",
        "    def size(self):\n",
        "        return len(self.queue)\n",
        "\n",
        "    def peek(self):\n",
        "        return self.queue[0]\n"
      ]
    },
    {
      "cell_type": "markdown",
      "metadata": {
        "id": "iNLkr844rA92"
      },
      "source": [
        "Pre-defined Deque class"
      ]
    },
    {
      "cell_type": "code",
      "execution_count": 4,
      "metadata": {
        "id": "OyDjnq6irA93"
      },
      "outputs": [],
      "source": [
        "class Deque:\n",
        "    def __init__(self):\n",
        "        self.items = []\n",
        "\n",
        "    def isEmpty(self):\n",
        "        return self.items == []\n",
        "\n",
        "    def addRear(self, item):\n",
        "        self.items.append(item)\n",
        "\n",
        "    def addFront(self, item):\n",
        "        self.items.insert(0, item)\n",
        "\n",
        "    def removeFront(self):\n",
        "        return self.items.pop(0)\n",
        "\n",
        "    def removeRear(self):\n",
        "        return self.items.pop()\n",
        "\n",
        "    def size(self):\n",
        "        return len(self.items)"
      ]
    },
    {
      "cell_type": "markdown",
      "metadata": {
        "id": "kLRwj9_mrA95"
      },
      "source": [
        "Pre-defined Circular Queue class"
      ]
    },
    {
      "cell_type": "code",
      "execution_count": 5,
      "metadata": {
        "id": "o7z7qARtrA97"
      },
      "outputs": [],
      "source": [
        "class CircularQueue():\n",
        "\n",
        "    def __init__(self, k):\n",
        "        self.k = k\n",
        "        self.queue = [None] * k\n",
        "        self.head = self.tail = -1\n",
        "\n",
        "    # Insert an element into the circular queue\n",
        "    def enqueue(self, data):\n",
        "\n",
        "        if ((self.tail + 1) % self.k == self.head):\n",
        "            print(\"The circular queue is full\\n\")\n",
        "\n",
        "        elif (self.head == -1):\n",
        "            self.head = 0\n",
        "            self.tail = 0\n",
        "            self.queue[self.tail] = data\n",
        "        else:\n",
        "            self.tail = (self.tail + 1) % self.k\n",
        "            self.queue[self.tail] = data\n",
        "\n",
        "    # Delete an element from the circular queue\n",
        "    def dequeue(self):\n",
        "        if (self.head == -1):\n",
        "            print(\"The circular queue is empty\\n\")\n",
        "\n",
        "        elif (self.head == self.tail):\n",
        "            temp = self.queue[self.head]\n",
        "            self.head = -1\n",
        "            self.tail = -1\n",
        "            return temp\n",
        "        else:\n",
        "            temp = self.queue[self.head]\n",
        "            self.head = (self.head + 1) % self.k\n",
        "            return temp\n",
        "\n",
        "    def printCQueue(self):\n",
        "        if(self.head == -1):\n",
        "            print(\"No element in the circular queue\")\n",
        "\n",
        "        elif (self.tail >= self.head):\n",
        "            for i in range(self.head, self.tail + 1):\n",
        "                print(self.queue[i], end=\" \")\n",
        "            print()\n",
        "        else:\n",
        "            for i in range(self.head, self.k):\n",
        "                print(self.queue[i], end=\" \")\n",
        "            for i in range(0, self.tail + 1):\n",
        "                print(self.queue[i], end=\" \")\n",
        "            print()\n"
      ]
    },
    {
      "cell_type": "markdown",
      "metadata": {
        "id": "Ln-Ke7CarA98"
      },
      "source": [
        "Pre-defined Priority Queue Class"
      ]
    },
    {
      "cell_type": "code",
      "execution_count": 6,
      "metadata": {
        "id": "aeGsj78grA99"
      },
      "outputs": [],
      "source": [
        "class PriorityQueueNode:\n",
        "    def __init__(self, value, pr):\n",
        "\n",
        "        self.data = value\n",
        "        self.priority = pr\n",
        "        self.next = None"
      ]
    },
    {
      "cell_type": "code",
      "execution_count": 7,
      "metadata": {
        "id": "MNPcL3ihrA99"
      },
      "outputs": [],
      "source": [
        "class PriorityQueue:\n",
        "\n",
        "\tdef __init__(self):\n",
        "\n",
        "\t\tself.front = None\n",
        "\n",
        "\t# Method to check Priority Queue is Empty\n",
        "\t# or not if Empty then it will return True\n",
        "\t# Otherwise False\n",
        "\tdef isEmpty(self):\n",
        "\n",
        "\t\treturn True if self.front == None else False\n",
        "\n",
        "\t# Method to add items in Priority Queue\n",
        "\t# According to their priority value\n",
        "\tdef push(self, value, priority):\n",
        "\n",
        "\t\t# Condition check for checking Priority\n",
        "\t\t# Queue is empty or not\n",
        "\t\tif self.isEmpty() == True:\n",
        "\n",
        "\t\t\t# Creating a new node and assigning\n",
        "\t\t\t# it to class variable\n",
        "\t\t\tself.front = PriorityQueueNode(value, priority)\n",
        "\n",
        "\t\t\t# Returning 1 for successful execution\n",
        "\t\t\treturn 1\n",
        "\n",
        "\t\telse:\n",
        "\n",
        "\t\t\t# Special condition check to see that\n",
        "\t\t\t# first node priority value\n",
        "\t\t\tif self.front.priority > priority:\n",
        "\t\t\t\t# Creating a new node\n",
        "\t\t\t\tnewNode = PriorityQueueNode(value, priority)\n",
        "\t\t\t\t# Updating the new node next value\n",
        "\t\t\t\tnewNode.next = self.front\n",
        "\n",
        "\t\t\t\t# Assigning it to self.front\n",
        "\t\t\t\tself.front = newNode\n",
        "\n",
        "\t\t\t\t# Returning 1 for successful execution\n",
        "\t\t\t\treturn 1\n",
        "\n",
        "\t\t\telse:\n",
        "\n",
        "\t\t\t\t# Traversing through Queue until it\n",
        "\t\t\t\t# finds the next smaller priority node\n",
        "\t\t\t\ttemp = self.front\n",
        "\n",
        "\t\t\t\twhile temp.next:\n",
        "\t\t\t\t\t# If same priority node found then current\n",
        "\t\t\t\t\t# node will come after previous node\n",
        "\t\t\t\t\tif priority <= temp.next.priority:\n",
        "\t\t\t\t\t\tbreak\n",
        "\n",
        "\t\t\t\t\ttemp = temp.next\n",
        "\n",
        "\t\t\t\tnewNode = PriorityQueueNode(value, priority)\n",
        "\t\t\t\tnewNode.next = temp.next\n",
        "\t\t\t\ttemp.next = newNode\n",
        "\n",
        "\t\t\t\t# Returning 1 for successful execution\n",
        "\t\t\t\treturn 1\n",
        "\n",
        "\t# Method to remove high priority item\n",
        "\t# from the Priority Queue\n",
        "\tdef pop(self):\n",
        "\n",
        "\t\t# Condition check for checking\n",
        "\t\t# Priority Queue is empty or not\n",
        "\t\tif self.isEmpty() == True:\n",
        "\t\t\treturn\n",
        "\t\telse:\n",
        "\t\t\t# Removing high priority node from\n",
        "\t\t\t# Priority Queue, and updating front\n",
        "\t\t\t# with next node\n",
        "\t\t\tself.front = self.front.next\n",
        "\t\t\treturn 1\n",
        "\n",
        "\t# Method to return high priority node\n",
        "\t# value Not removing it\n",
        "\tdef peek(self):\n",
        "\t\t# Condition check for checking Priority\n",
        "\t\t# Queue is empty or not\n",
        "\t\tif self.isEmpty() == True:\n",
        "\t\t\treturn\n",
        "\t\telse:\n",
        "\t\t\treturn self.front.data\n",
        "\n",
        "\t# Method to Traverse through Priority\n",
        "\t# Queue\n",
        "\tdef traverse(self):\n",
        "\t\t# Condition check for checking Priority\n",
        "\t\t# Queue is empty or not\n",
        "\t\tif self.isEmpty() == True:\n",
        "\t\t\treturn \"Queue is Empty!\"\n",
        "\t\telse:\n",
        "\t\t\ttemp = self.front\n",
        "\t\t\twhile temp:\n",
        "\t\t\t\tprint(temp.data, end=\" \")\n",
        "\t\t\t\ttemp = temp.next"
      ]
    },
    {
      "cell_type": "markdown",
      "metadata": {
        "id": "5lw8PG3HrA9_"
      },
      "source": [
        "#### 1. Create a Queue\n",
        "\n",
        "- Each element should contain your name and your other classmates\n",
        "- There should be at least 5 elements in the queue\n",
        "- Put yourself at the end of the queue\n",
        "- Print all elements in the queue"
      ]
    },
    {
      "cell_type": "code",
      "execution_count": 16,
      "metadata": {
        "id": "sU_Nj4wjrA-A",
        "outputId": "b2434c75-0b07-4375-86e4-31841785a46c",
        "colab": {
          "base_uri": "https://localhost:8080/"
        }
      },
      "outputs": [
        {
          "output_type": "stream",
          "name": "stdout",
          "text": [
            "['Bea', 'Chleo', 'Allana', 'Marga', 'Louisse']\n"
          ]
        }
      ],
      "source": [
        "myqueue = Queue()\n",
        "\n",
        "myqueue.enqueue(\"Bea\")\n",
        "myqueue.enqueue(\"Chleo\")\n",
        "myqueue.enqueue(\"Allana\")\n",
        "myqueue.enqueue(\"Marga\")\n",
        "myqueue.enqueue(\"Louisse\")\n",
        "\n",
        "myqueue.display()"
      ]
    },
    {
      "cell_type": "markdown",
      "metadata": {
        "id": "xBx77FehrA-B"
      },
      "source": [
        "#### 2. Create a Deque\n",
        "\n",
        "Given the queue below,\n",
        "\n",
        "**Queue:**\n",
        "\n",
        "| Cat | Dog | Rabbit | Bird | Hamster\n",
        "| --- | --- | --- | --- | --- |\n",
        "\n",
        "**dequeue** each element and insert them into a **Deque** in the following order below:\n",
        "\n",
        "**Deque:**\n",
        "\n",
        "| Hamster | Bird | Rabbit | Dog | Cat\n",
        "| --- | --- | --- | --- | --- |\n",
        "\n",
        "**Expected output:**\n",
        "\n",
        "['Hamster','Bird', 'Rabbit', 'Dog', 'Cat']"
      ]
    },
    {
      "cell_type": "code",
      "execution_count": 17,
      "metadata": {
        "id": "A51ZSqTcrA-E",
        "outputId": "1ab735a2-41ab-4aac-b884-38af7e90198a",
        "colab": {
          "base_uri": "https://localhost:8080/"
        }
      },
      "outputs": [
        {
          "output_type": "stream",
          "name": "stdout",
          "text": [
            "['Cat', 'Dog', 'Rabbit', 'Bird', 'Hamster']\n"
          ]
        }
      ],
      "source": [
        "mydeque = Deque()\n",
        "\n",
        "mydeque.addFront(\"Cat\")\n",
        "mydeque.addRear(\"Dog\")\n",
        "mydeque.addRear(\"Rabbit\")\n",
        "mydeque.addRear(\"Bird\")\n",
        "mydeque.addRear(\"Hamster\")\n",
        "\n",
        "print(mydeque.items)"
      ]
    },
    {
      "cell_type": "code",
      "source": [
        "mydeque.removeFront()\n",
        "mydeque.removeRear()\n",
        "mydeque.removeRear()\n",
        "mydeque.removeRear()\n",
        "mydeque.removeRear()\n",
        "\n",
        "print(mydeque.items)"
      ],
      "metadata": {
        "id": "lNBGM7hlyywv",
        "outputId": "1bca3060-e2b4-41ef-ecca-0e69eb7270db",
        "colab": {
          "base_uri": "https://localhost:8080/"
        }
      },
      "execution_count": 18,
      "outputs": [
        {
          "output_type": "stream",
          "name": "stdout",
          "text": [
            "[]\n"
          ]
        }
      ]
    },
    {
      "cell_type": "code",
      "source": [
        "mydeque.addFront(\"Hamster\")\n",
        "mydeque.addRear(\"Bird\")\n",
        "mydeque.addRear(\"Rabbit\")\n",
        "mydeque.addRear(\"Dog\")\n",
        "mydeque.addRear(\"Cat\")\n",
        "\n",
        "print(mydeque.items)"
      ],
      "metadata": {
        "id": "cRBVVFUOy2rO",
        "outputId": "2c6ae5f4-460a-4ee9-f237-20a64e037489",
        "colab": {
          "base_uri": "https://localhost:8080/"
        }
      },
      "execution_count": 19,
      "outputs": [
        {
          "output_type": "stream",
          "name": "stdout",
          "text": [
            "['Hamster', 'Bird', 'Rabbit', 'Dog', 'Cat']\n"
          ]
        }
      ]
    },
    {
      "cell_type": "markdown",
      "metadata": {
        "id": "OnnzsmEgrA-F"
      },
      "source": [
        "#### 3. Create a Circular Queue\n",
        "\n",
        "Given the queue below,\n",
        "\n",
        "**Queue:**\n",
        "\n",
        "| I | II | III | IV | V | VI | VII | VIII | IX | X | XI | XII\n",
        "| --- | --- | --- | --- | --- | --- | --- | --- | --- | --- | --- | --- |\n",
        "\n",
        "**dequeue** each element and insert them into a **Circular Deque** in the following order below:\n",
        "\n",
        "**Circular Queue:**\n",
        "\n",
        "<img src=\"https://github.com/louissietory/CCDATRCL_ASSIGNMENT_COM222/blob/main/clock.jpg?raw=1\"/>\n",
        "\n",
        "**Expected output:**\n",
        "\n",
        "I II III IV V VI VII VIII IX X XI XII"
      ]
    },
    {
      "cell_type": "code",
      "execution_count": 20,
      "metadata": {
        "id": "PdAAoyd3rA-F"
      },
      "outputs": [],
      "source": [
        "cQ = Queue()\n",
        "mycircularQueue = CircularQueue(13)\n"
      ]
    },
    {
      "cell_type": "code",
      "source": [
        "cQ.enqueue(\"I\")\n",
        "cQ.enqueue(\"II\")\n",
        "cQ.enqueue(\"III\")\n",
        "cQ.enqueue(\"IV\")\n",
        "cQ.enqueue(\"V\")\n",
        "cQ.enqueue(\"VI\")\n",
        "cQ.enqueue(\"VII\")\n",
        "cQ.enqueue(\"VIII\")\n",
        "cQ.enqueue(\"IX\")\n",
        "cQ.enqueue(\"X\")\n",
        "cQ.enqueue(\"XI\")\n",
        "cQ.enqueue(\"XII\")\n",
        "\n",
        "cQ.display()"
      ],
      "metadata": {
        "id": "wBL3B5QcsgNF",
        "outputId": "d197579b-e83b-420e-c143-28bb4a042cad",
        "colab": {
          "base_uri": "https://localhost:8080/"
        }
      },
      "execution_count": 21,
      "outputs": [
        {
          "output_type": "stream",
          "name": "stdout",
          "text": [
            "['I', 'II', 'III', 'IV', 'V', 'VI', 'VII', 'VIII', 'IX', 'X', 'XI', 'XII']\n"
          ]
        }
      ]
    },
    {
      "cell_type": "code",
      "source": [
        "cQ.dequeue()\n",
        "cQ.dequeue()\n",
        "cQ.dequeue()\n",
        "cQ.dequeue()\n",
        "cQ.dequeue()\n",
        "cQ.dequeue()\n",
        "cQ.dequeue()\n",
        "cQ.dequeue()\n",
        "cQ.dequeue()\n",
        "cQ.dequeue()\n",
        "cQ.dequeue()\n",
        "cQ.dequeue()\n",
        "\n",
        "cQ.display()"
      ],
      "metadata": {
        "id": "WcvTAGiY7g_W",
        "outputId": "d9256b01-506f-4914-b582-316ddfb52943",
        "colab": {
          "base_uri": "https://localhost:8080/"
        }
      },
      "execution_count": 22,
      "outputs": [
        {
          "output_type": "stream",
          "name": "stdout",
          "text": [
            "[]\n"
          ]
        }
      ]
    },
    {
      "cell_type": "code",
      "source": [
        "cQ.enqueue(mycircularQueue.enqueue(\"I\"))\n",
        "cQ.enqueue(mycircularQueue.enqueue(\"II\"))\n",
        "cQ.enqueue(mycircularQueue.enqueue(\"III\"))\n",
        "cQ.enqueue(mycircularQueue.enqueue(\"IV\"))\n",
        "cQ.enqueue(mycircularQueue.enqueue(\"V\"))\n",
        "cQ.enqueue(mycircularQueue.enqueue(\"VI\"))\n",
        "cQ.enqueue(mycircularQueue.enqueue(\"VII\"))\n",
        "cQ.enqueue(mycircularQueue.enqueue(\"VIII\"))\n",
        "cQ.enqueue(mycircularQueue.enqueue(\"IX\"))\n",
        "cQ.enqueue(mycircularQueue.enqueue(\"X\"))\n",
        "cQ.enqueue(mycircularQueue.enqueue(\"XI\"))\n",
        "cQ.enqueue(mycircularQueue.enqueue(\"XII\"))\n",
        "\n",
        "mycircularQueue.printCQueue()"
      ],
      "metadata": {
        "id": "QGpXaFuc7lg3",
        "outputId": "329e0349-f1e9-4851-8d63-f411fd95ad56",
        "colab": {
          "base_uri": "https://localhost:8080/"
        }
      },
      "execution_count": 23,
      "outputs": [
        {
          "output_type": "stream",
          "name": "stdout",
          "text": [
            "I II III IV V VI VII VIII IX X XI XII \n"
          ]
        }
      ]
    },
    {
      "cell_type": "markdown",
      "metadata": {
        "id": "fS0iFmvErA-G"
      },
      "source": [
        "#### 4. Create a Priority Queue\n",
        "\n",
        "Given the queue below,\n",
        "\n",
        "**Queue:**\n",
        "\n",
        "| Cat | Dog | Rabbit | Bird | Hamster\n",
        "| --- | --- | --- | --- | --- |\n",
        "\n",
        "\n",
        "**dequeue** each element and insert them into a **Priority Queue** with the following priority values\n",
        "\n",
        "**Priority Queue:**\n",
        "\n",
        "| Element | Priority |\n",
        "| --- | --- |\n",
        "| Hamster |  0 |\n",
        "| Bird |  1 |\n",
        "| Rabbit |  2 |\n",
        "| Dog |  3 |\n",
        "| Cat |  4 |\n",
        "\n",
        "**Expected output:**\n",
        "\n",
        "Hamster Bird Rabbit Dog Cat"
      ]
    },
    {
      "cell_type": "code",
      "execution_count": 24,
      "metadata": {
        "id": "HsH8XViArA-G"
      },
      "outputs": [],
      "source": [
        "Pq = Queue()\n",
        "pq = PriorityQueue()"
      ]
    },
    {
      "cell_type": "code",
      "source": [
        "Pq.enqueue(pq.push(\"Cat\", 0))\n",
        "Pq.enqueue(pq.push(\"Dog\", 1))\n",
        "Pq.enqueue(pq.push(\"Rabbit\", 2))\n",
        "Pq.enqueue(pq.push(\"Bird\", 3))\n",
        "Pq.enqueue(pq.push(\"Hamster\", 4))\n",
        "\n",
        "pq.traverse()"
      ],
      "metadata": {
        "id": "xZ6aIrcSja7f",
        "outputId": "a6441647-adae-4832-b3cd-7bdeedf12d42",
        "colab": {
          "base_uri": "https://localhost:8080/"
        }
      },
      "execution_count": 25,
      "outputs": [
        {
          "output_type": "stream",
          "name": "stdout",
          "text": [
            "Cat Dog Rabbit Bird Hamster "
          ]
        }
      ]
    },
    {
      "cell_type": "code",
      "source": [
        "pq.pop()\n",
        "pq.pop()\n",
        "pq.pop()\n",
        "pq.pop()\n",
        "pq.pop()\n",
        "\n",
        "pq.traverse()"
      ],
      "metadata": {
        "id": "BkyfXZ-pmcPI",
        "outputId": "197facd9-541d-43d9-f99d-fca55cedce5a",
        "colab": {
          "base_uri": "https://localhost:8080/",
          "height": 35
        }
      },
      "execution_count": 26,
      "outputs": [
        {
          "output_type": "execute_result",
          "data": {
            "text/plain": [
              "'Queue is Empty!'"
            ],
            "application/vnd.google.colaboratory.intrinsic+json": {
              "type": "string"
            }
          },
          "metadata": {},
          "execution_count": 26
        }
      ]
    },
    {
      "cell_type": "code",
      "source": [
        "pq.push(\"Hamster\", 0)\n",
        "pq.push(\"Bird\", 1)\n",
        "pq.push(\"Rabbit\", 2)\n",
        "pq.push(\"Dog\", 3)\n",
        "pq.push(\"Cat\", 4)\n",
        "\n",
        "pq.traverse()"
      ],
      "metadata": {
        "id": "rBRu91Xzme1F",
        "outputId": "d3652028-8b69-483c-ffb3-3258936d15e8",
        "colab": {
          "base_uri": "https://localhost:8080/"
        }
      },
      "execution_count": 27,
      "outputs": [
        {
          "output_type": "stream",
          "name": "stdout",
          "text": [
            "Hamster Bird Rabbit Dog Cat "
          ]
        }
      ]
    },
    {
      "cell_type": "markdown",
      "metadata": {
        "id": "pdZI9IFhrA-H"
      },
      "source": [
        "#### 5. Create a Sorted Circular Queue\n",
        "\n",
        "Given the queue below,\n",
        "\n",
        "**Queue:**\n",
        "\n",
        "| 1 | 5 | 3 | 2 | 7 | 8 | 10 | 11 | 6 | 4 | 12 | 9\n",
        "| --- | --- | --- | --- | --- | --- | --- | --- | --- | --- | --- | --- |\n",
        "\n",
        "\n",
        "**dequeue** each element and insert them into a **Circular Queue** in the following order below:\n",
        "\n",
        "**Circular Queue:**\n",
        "\n",
        "<img src=\"https://github.com/louissietory/CCDATRCL_ASSIGNMENT_COM222/blob/main/clock1.png?raw=1\"/>\n",
        "\n",
        "**Expected output:**\n",
        "\n",
        "1 2 3 4 5 6 7 8 9 10 11 12"
      ]
    },
    {
      "cell_type": "code",
      "execution_count": 28,
      "metadata": {
        "id": "7MRvxFzerA-H",
        "outputId": "bbad4d75-3eb4-4a18-f732-0c4face9fbb0",
        "colab": {
          "base_uri": "https://localhost:8080/"
        }
      },
      "outputs": [
        {
          "output_type": "stream",
          "name": "stdout",
          "text": [
            "1 2 3 4 5 6 7 8 9 10 11 12 \n"
          ]
        }
      ],
      "source": [
        "given_queue = [1, 5, 3, 2, 7, 8, 10, 11, 6, 4, 12, 9]\n",
        "sorted_list = sorted(given_queue)\n",
        "\n",
        "\n",
        "cqueue = CircularQueue(len(sorted_list))\n",
        "for item in sorted_list:\n",
        "    cqueue.enqueue(item)\n",
        "\n",
        "cqueue.printCQueue()"
      ]
    }
  ],
  "metadata": {
    "kernelspec": {
      "display_name": "Python 3",
      "language": "python",
      "name": "python3"
    },
    "language_info": {
      "codemirror_mode": {
        "name": "ipython",
        "version": 3
      },
      "file_extension": ".py",
      "mimetype": "text/x-python",
      "name": "python",
      "nbconvert_exporter": "python",
      "pygments_lexer": "ipython3",
      "version": "3.9.13"
    },
    "orig_nbformat": 4,
    "colab": {
      "provenance": [],
      "include_colab_link": true
    }
  },
  "nbformat": 4,
  "nbformat_minor": 0
}